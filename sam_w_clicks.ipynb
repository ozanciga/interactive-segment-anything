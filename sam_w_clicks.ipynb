{
 "cells": [
  {
   "cell_type": "code",
   "execution_count": null,
   "metadata": {},
   "outputs": [],
   "source": [
    "from transformers import SamModel, SamProcessor\n",
    "from PIL import Image\n",
    "from sam_utils import (\n",
    "    show_masks_on_image,\n",
    "    get_mask_and_scores_from_sam_input,\n",
    "    sample_points_from_box,\n",
    "    show_mask\n",
    ")\n",
    "from transformers import pipeline\n",
    "from multi_tab_bokeh import MultiToolVisualizer\n",
    "from morphology_utils import smooth_binary_mask\n",
    "\n",
    "import matplotlib.pyplot as plt\n",
    "import numpy as np\n",
    "import os"
   ]
  },
  {
   "cell_type": "code",
   "execution_count": null,
   "metadata": {},
   "outputs": [],
   "source": [
    "model_name = \"facebook/sam-vit-huge\"\n",
    "sam_model = SamModel.from_pretrained(model_name,).to('cuda')\n",
    "sam_processor = SamProcessor.from_pretrained(model_name)\n",
    "mask_generator = pipeline(\"mask-generation\", model=model_name, device='cuda')"
   ]
  },
  {
   "cell_type": "code",
   "execution_count": null,
   "metadata": {},
   "outputs": [],
   "source": [
    "image_path = f'{os.getcwd()}/assets/images/Lenna_(test_image).png'\n",
    "raw_image = Image.open(image_path).convert(\"RGB\")\n",
    "\n",
    "inputs = sam_processor(raw_image, return_tensors=\"pt\").to('cuda')\n",
    "image_embeddings = sam_model.get_image_embeddings(inputs[\"pixel_values\"])\n",
    "automatic_mask_outputs = mask_generator(raw_image, points_per_batch=256, pred_iou_thresh=0.8)"
   ]
  },
  {
   "cell_type": "markdown",
   "metadata": {},
   "source": [
    "### automatic masks"
   ]
  },
  {
   "cell_type": "code",
   "execution_count": null,
   "metadata": {},
   "outputs": [],
   "source": [
    "multi_tab_visualizer = MultiToolVisualizer(raw_image, automatic_mask_outputs[\"masks\"], resize=1, port=5003)\n",
    "multi_tab_visualizer.serve()"
   ]
  },
  {
   "cell_type": "markdown",
   "metadata": {},
   "source": [
    "### outputs\n",
    "- Make your selection(s) on the browser, then come back here and see the outputs."
   ]
  },
  {
   "cell_type": "markdown",
   "metadata": {},
   "source": [
    "### hover output"
   ]
  },
  {
   "cell_type": "code",
   "execution_count": null,
   "metadata": {},
   "outputs": [],
   "source": [
    "ind = list(multi_tab_visualizer.mask_visualizer.fixed_mask_indices)\n",
    "mask = automatic_mask_outputs[\"masks\"][ind[0]]\n",
    "for _ind in ind[1:]:\n",
    "    mask |= automatic_mask_outputs[\"masks\"][_ind]\n",
    "mask = smooth_binary_mask(mask, dilate=3, fill_holes=True, erode=6, \n",
    "                       kernel_size=1, smooth=True, closing=True)\n",
    "fig, ax = plt.subplots(1, 1, figsize=(6, 4))\n",
    "ax.imshow(np.array(raw_image))\n",
    "show_mask(mask, ax)\n",
    "ax.axis(\"off\")\n",
    "plt.subplots_adjust(wspace=0.05, hspace=0.05)\n",
    "plt.tight_layout()\n",
    "plt.show()\n"
   ]
  },
  {
   "cell_type": "markdown",
   "metadata": {},
   "source": [
    "### click & draw a rectangular box"
   ]
  },
  {
   "cell_type": "code",
   "execution_count": null,
   "metadata": {},
   "outputs": [],
   "source": [
    "masks, scores = get_mask_and_scores_from_sam_input(\n",
    "    sam_model, \n",
    "    sam_processor,\n",
    "    raw_image, \n",
    "    image_embeddings,\n",
    "    input_points=sample_points_from_box(multi_tab_visualizer.box_editor.get_box_coordinates(as_list=True), num_samples_per_box=10))\n",
    "\n",
    "show_masks_on_image(raw_image, masks[0], scores)"
   ]
  },
  {
   "cell_type": "code",
   "execution_count": null,
   "metadata": {},
   "outputs": [],
   "source": [
    "masks, scores = get_mask_and_scores_from_sam_input(\n",
    "    sam_model, \n",
    "    sam_processor,\n",
    "    raw_image, \n",
    "    image_embeddings,\n",
    "    input_points=[multi_tab_visualizer.tap_selector.get_tap_coordinates(as_list=True)])\n",
    "\n",
    "show_masks_on_image(raw_image, masks[0], scores)"
   ]
  }
 ],
 "metadata": {
  "kernelspec": {
   "display_name": "pt312",
   "language": "python",
   "name": "python3"
  },
  "language_info": {
   "codemirror_mode": {
    "name": "ipython",
    "version": 3
   },
   "file_extension": ".py",
   "mimetype": "text/x-python",
   "name": "python",
   "nbconvert_exporter": "python",
   "pygments_lexer": "ipython3",
   "version": "3.12.9"
  }
 },
 "nbformat": 4,
 "nbformat_minor": 2
}
